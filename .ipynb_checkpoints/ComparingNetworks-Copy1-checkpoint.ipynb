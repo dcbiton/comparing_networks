{
 "cells": [
  {
   "cell_type": "markdown",
   "metadata": {
    "execution": {}
   },
   "source": [
    "<a href=\"https://colab.research.google.com/github/neuromatch/NeuroAI_Course/blob/main/projects/project-notebooks/ComparingNetworks.ipynb\" target=\"_blank\"><img alt=\"Open In Colab\" src=\"https://colab.research.google.com/assets/colab-badge.svg\"/></a>   <a href=\"https://kaggle.com/kernels/welcome?src=https://raw.githubusercontent.com/neuromatch/NeuroAI_Course/main/projects/project-notebooks/ComparingNetworks.ipynb\" target=\"_blank\"><img alt=\"Open in Kaggle\" src=\"https://kaggle.com/static/images/open-in-kaggle.svg\"/></a>\n"
   ]
  },
  {
   "cell_type": "markdown",
   "metadata": {},
   "source": [
    "###  Install and import feedback gadget\n"
   ]
  },
  {
   "cell_type": "code",
   "execution_count": 5,
   "metadata": {
    "cellView": "form",
    "tags": [
     "remove-input"
    ]
   },
   "outputs": [],
   "source": [
    "# @title Project Background\n",
    "\n",
    "from ipywidgets import widgets\n",
    "from IPython.display import YouTubeVideo\n",
    "from IPython.display import IFrame\n",
    "from IPython.display import display\n",
    "\n",
    "from IPython.display import Image, display\n",
    "import os\n",
    "from pathlib import Path"
   ]
  },
  {
   "cell_type": "code",
   "execution_count": 6,
   "metadata": {
    "cellView": "form",
    "tags": [
     "hide-input"
    ]
   },
   "outputs": [],
   "source": [
    "# @markdown Local installation\n",
    "\n",
    "import contextlib\n",
    "import io\n",
    "import os"
   ]
  },
  {
   "cell_type": "code",
   "execution_count": 7,
   "metadata": {},
   "outputs": [
    {
     "name": "stdout",
     "output_type": "stream",
     "text": [
      "ComputationThruDynamicsBenchmark/\n"
     ]
    }
   ],
   "source": [
    "# set the random seed for reproducibility\n",
    "import random\n",
    "import dotenv\n",
    "import pathlib\n",
    "import os\n",
    "import logging\n",
    "\n",
    "\n",
    "# comment the next three lines if you want to see all training logs\n",
    "pl_loggers = [logging.getLogger(name) for name in logging.root.manager.loggerDict if 'pytorch_lightning' in name]\n",
    "for pl_log in pl_loggers:\n",
    "    logging.getLogger(pl_log.name).setLevel(logging.WARNING)\n",
    "\n",
    "random.seed(2024)\n",
    "\n",
    "dotenv.load_dotenv(override=True)\n",
    "HOME_DIR = os.getenv(\"HOME_DIR\")\n",
    "if HOME_DIR is None:\n",
    "    HOME_DIR = \"\"\n",
    "print(HOME_DIR)"
   ]
  },
  {
   "cell_type": "code",
   "execution_count": 8,
   "metadata": {},
   "outputs": [],
   "source": [
    "import torch\n",
    "device = torch.device(\"mps\")"
   ]
  },
  {
   "cell_type": "code",
   "execution_count": 9,
   "metadata": {},
   "outputs": [
    {
     "name": "stdout",
     "output_type": "stream",
     "text": [
      "cpu\n"
     ]
    }
   ],
   "source": [
    "from ctd.task_modeling.task_env.task_env import RandomTarget\n",
    "from motornet.effector import RigidTendonArm26\n",
    "from motornet.muscle import MujocoHillMuscle\n",
    "# Create the analysis object:\n",
    "rt_task_env = RandomTarget(effector = RigidTendonArm26(muscle = MujocoHillMuscle())) #.to(device)\n",
    "# set device to mps\n",
    "print(rt_task_env.device)"
   ]
  },
  {
   "cell_type": "markdown",
   "metadata": {},
   "source": [
    "### Train the GRU RNN on RandomTarget"
   ]
  },
  {
   "cell_type": "code",
   "execution_count": null,
   "metadata": {},
   "outputs": [
    {
     "name": "stderr",
     "output_type": "stream",
     "text": [
      "/opt/anaconda3/envs/neuroai/lib/python3.11/site-packages/pytorch_lightning/utilities/parsing.py:198: Attribute 'data_env' is an instance of `nn.Module` and is already saved during checkpointing. It is recommended to ignore them using `self.save_hyperparameters(ignore=['data_env'])`.\n",
      "GPU available: True (mps), used: False\n",
      "TPU available: False, using: 0 TPU cores\n",
      "IPU available: False, using: 0 IPUs\n",
      "HPU available: False, using: 0 HPUs\n",
      "/opt/anaconda3/envs/neuroai/lib/python3.11/site-packages/pytorch_lightning/trainer/setup.py:187: GPU available but not used. You can set it by doing `Trainer(accelerator='gpu')`.\n",
      "\n",
      "  | Name     | Type         | Params\n",
      "------------------------------------------\n",
      "0 | task_env | RandomTarget | 84    \n",
      "1 | model    | GRU_RNN      | 57.4 K\n",
      "------------------------------------------\n",
      "57.4 K    Trainable params\n",
      "84        Non-trainable params\n",
      "57.4 K    Total params\n",
      "0.230     Total estimated model params size (MB)\n"
     ]
    },
    {
     "data": {
      "application/vnd.jupyter.widget-view+json": {
       "model_id": "",
       "version_major": 2,
       "version_minor": 0
      },
      "text/plain": [
       "Sanity Checking: |                                        | 0/? [00:00<?, ?it/s]"
      ]
     },
     "metadata": {},
     "output_type": "display_data"
    },
    {
     "name": "stderr",
     "output_type": "stream",
     "text": [
      "/opt/anaconda3/envs/neuroai/lib/python3.11/site-packages/pytorch_lightning/trainer/connectors/data_connector.py:436: Consider setting `persistent_workers=True` in 'val_dataloader' to speed up the dataloader worker initialization.\n",
      "/opt/anaconda3/envs/neuroai/lib/python3.11/site-packages/pytorch_lightning/trainer/connectors/data_connector.py:436: Consider setting `persistent_workers=True` in 'train_dataloader' to speed up the dataloader worker initialization.\n",
      "/opt/anaconda3/envs/neuroai/lib/python3.11/site-packages/pytorch_lightning/loops/fit_loop.py:293: The number of training batches (4) is smaller than the logging interval Trainer(log_every_n_steps=50). Set a lower value for log_every_n_steps if you want to see logs for the training epoch.\n"
     ]
    },
    {
     "data": {
      "application/vnd.jupyter.widget-view+json": {
       "model_id": "d5c084cb30a141b8ae6690209b7b2d5e",
       "version_major": 2,
       "version_minor": 0
      },
      "text/plain": [
       "Training: |                                               | 0/? [00:00<?, ?it/s]"
      ]
     },
     "metadata": {},
     "output_type": "display_data"
    },
    {
     "data": {
      "application/vnd.jupyter.widget-view+json": {
       "model_id": "",
       "version_major": 2,
       "version_minor": 0
      },
      "text/plain": [
       "Validation: |                                             | 0/? [00:00<?, ?it/s]"
      ]
     },
     "metadata": {},
     "output_type": "display_data"
    },
    {
     "name": "stderr",
     "output_type": "stream",
     "text": [
      "NaN or Inf found in input tensor.\n"
     ]
    },
    {
     "data": {
      "application/vnd.jupyter.widget-view+json": {
       "model_id": "",
       "version_major": 2,
       "version_minor": 0
      },
      "text/plain": [
       "Validation: |                                             | 0/? [00:00<?, ?it/s]"
      ]
     },
     "metadata": {},
     "output_type": "display_data"
    },
    {
     "data": {
      "application/vnd.jupyter.widget-view+json": {
       "model_id": "",
       "version_major": 2,
       "version_minor": 0
      },
      "text/plain": [
       "Validation: |                                             | 0/? [00:00<?, ?it/s]"
      ]
     },
     "metadata": {},
     "output_type": "display_data"
    },
    {
     "data": {
      "application/vnd.jupyter.widget-view+json": {
       "model_id": "",
       "version_major": 2,
       "version_minor": 0
      },
      "text/plain": [
       "Validation: |                                             | 0/? [00:00<?, ?it/s]"
      ]
     },
     "metadata": {},
     "output_type": "display_data"
    },
    {
     "data": {
      "application/vnd.jupyter.widget-view+json": {
       "model_id": "",
       "version_major": 2,
       "version_minor": 0
      },
      "text/plain": [
       "Validation: |                                             | 0/? [00:00<?, ?it/s]"
      ]
     },
     "metadata": {},
     "output_type": "display_data"
    },
    {
     "data": {
      "application/vnd.jupyter.widget-view+json": {
       "model_id": "",
       "version_major": 2,
       "version_minor": 0
      },
      "text/plain": [
       "Validation: |                                             | 0/? [00:00<?, ?it/s]"
      ]
     },
     "metadata": {},
     "output_type": "display_data"
    },
    {
     "data": {
      "application/vnd.jupyter.widget-view+json": {
       "model_id": "",
       "version_major": 2,
       "version_minor": 0
      },
      "text/plain": [
       "Validation: |                                             | 0/? [00:00<?, ?it/s]"
      ]
     },
     "metadata": {},
     "output_type": "display_data"
    },
    {
     "data": {
      "application/vnd.jupyter.widget-view+json": {
       "model_id": "",
       "version_major": 2,
       "version_minor": 0
      },
      "text/plain": [
       "Validation: |                                             | 0/? [00:00<?, ?it/s]"
      ]
     },
     "metadata": {},
     "output_type": "display_data"
    },
    {
     "data": {
      "application/vnd.jupyter.widget-view+json": {
       "model_id": "",
       "version_major": 2,
       "version_minor": 0
      },
      "text/plain": [
       "Validation: |                                             | 0/? [00:00<?, ?it/s]"
      ]
     },
     "metadata": {},
     "output_type": "display_data"
    },
    {
     "data": {
      "application/vnd.jupyter.widget-view+json": {
       "model_id": "",
       "version_major": 2,
       "version_minor": 0
      },
      "text/plain": [
       "Validation: |                                             | 0/? [00:00<?, ?it/s]"
      ]
     },
     "metadata": {},
     "output_type": "display_data"
    },
    {
     "data": {
      "application/vnd.jupyter.widget-view+json": {
       "model_id": "",
       "version_major": 2,
       "version_minor": 0
      },
      "text/plain": [
       "Validation: |                                             | 0/? [00:00<?, ?it/s]"
      ]
     },
     "metadata": {},
     "output_type": "display_data"
    },
    {
     "data": {
      "application/vnd.jupyter.widget-view+json": {
       "model_id": "",
       "version_major": 2,
       "version_minor": 0
      },
      "text/plain": [
       "Validation: |                                             | 0/? [00:00<?, ?it/s]"
      ]
     },
     "metadata": {},
     "output_type": "display_data"
    },
    {
     "data": {
      "application/vnd.jupyter.widget-view+json": {
       "model_id": "",
       "version_major": 2,
       "version_minor": 0
      },
      "text/plain": [
       "Validation: |                                             | 0/? [00:00<?, ?it/s]"
      ]
     },
     "metadata": {},
     "output_type": "display_data"
    },
    {
     "data": {
      "application/vnd.jupyter.widget-view+json": {
       "model_id": "",
       "version_major": 2,
       "version_minor": 0
      },
      "text/plain": [
       "Validation: |                                             | 0/? [00:00<?, ?it/s]"
      ]
     },
     "metadata": {},
     "output_type": "display_data"
    },
    {
     "data": {
      "application/vnd.jupyter.widget-view+json": {
       "model_id": "",
       "version_major": 2,
       "version_minor": 0
      },
      "text/plain": [
       "Validation: |                                             | 0/? [00:00<?, ?it/s]"
      ]
     },
     "metadata": {},
     "output_type": "display_data"
    },
    {
     "data": {
      "application/vnd.jupyter.widget-view+json": {
       "model_id": "",
       "version_major": 2,
       "version_minor": 0
      },
      "text/plain": [
       "Validation: |                                             | 0/? [00:00<?, ?it/s]"
      ]
     },
     "metadata": {},
     "output_type": "display_data"
    },
    {
     "data": {
      "application/vnd.jupyter.widget-view+json": {
       "model_id": "",
       "version_major": 2,
       "version_minor": 0
      },
      "text/plain": [
       "Validation: |                                             | 0/? [00:00<?, ?it/s]"
      ]
     },
     "metadata": {},
     "output_type": "display_data"
    },
    {
     "data": {
      "application/vnd.jupyter.widget-view+json": {
       "model_id": "",
       "version_major": 2,
       "version_minor": 0
      },
      "text/plain": [
       "Validation: |                                             | 0/? [00:00<?, ?it/s]"
      ]
     },
     "metadata": {},
     "output_type": "display_data"
    },
    {
     "data": {
      "application/vnd.jupyter.widget-view+json": {
       "model_id": "",
       "version_major": 2,
       "version_minor": 0
      },
      "text/plain": [
       "Validation: |                                             | 0/? [00:00<?, ?it/s]"
      ]
     },
     "metadata": {},
     "output_type": "display_data"
    },
    {
     "data": {
      "application/vnd.jupyter.widget-view+json": {
       "model_id": "",
       "version_major": 2,
       "version_minor": 0
      },
      "text/plain": [
       "Validation: |                                             | 0/? [00:00<?, ?it/s]"
      ]
     },
     "metadata": {},
     "output_type": "display_data"
    },
    {
     "data": {
      "application/vnd.jupyter.widget-view+json": {
       "model_id": "",
       "version_major": 2,
       "version_minor": 0
      },
      "text/plain": [
       "Validation: |                                             | 0/? [00:00<?, ?it/s]"
      ]
     },
     "metadata": {},
     "output_type": "display_data"
    },
    {
     "data": {
      "application/vnd.jupyter.widget-view+json": {
       "model_id": "",
       "version_major": 2,
       "version_minor": 0
      },
      "text/plain": [
       "Validation: |                                             | 0/? [00:00<?, ?it/s]"
      ]
     },
     "metadata": {},
     "output_type": "display_data"
    },
    {
     "data": {
      "application/vnd.jupyter.widget-view+json": {
       "model_id": "",
       "version_major": 2,
       "version_minor": 0
      },
      "text/plain": [
       "Validation: |                                             | 0/? [00:00<?, ?it/s]"
      ]
     },
     "metadata": {},
     "output_type": "display_data"
    },
    {
     "data": {
      "application/vnd.jupyter.widget-view+json": {
       "model_id": "",
       "version_major": 2,
       "version_minor": 0
      },
      "text/plain": [
       "Validation: |                                             | 0/? [00:00<?, ?it/s]"
      ]
     },
     "metadata": {},
     "output_type": "display_data"
    },
    {
     "data": {
      "application/vnd.jupyter.widget-view+json": {
       "model_id": "",
       "version_major": 2,
       "version_minor": 0
      },
      "text/plain": [
       "Validation: |                                             | 0/? [00:00<?, ?it/s]"
      ]
     },
     "metadata": {},
     "output_type": "display_data"
    },
    {
     "data": {
      "application/vnd.jupyter.widget-view+json": {
       "model_id": "",
       "version_major": 2,
       "version_minor": 0
      },
      "text/plain": [
       "Validation: |                                             | 0/? [00:00<?, ?it/s]"
      ]
     },
     "metadata": {},
     "output_type": "display_data"
    },
    {
     "data": {
      "application/vnd.jupyter.widget-view+json": {
       "model_id": "",
       "version_major": 2,
       "version_minor": 0
      },
      "text/plain": [
       "Validation: |                                             | 0/? [00:00<?, ?it/s]"
      ]
     },
     "metadata": {},
     "output_type": "display_data"
    },
    {
     "data": {
      "application/vnd.jupyter.widget-view+json": {
       "model_id": "",
       "version_major": 2,
       "version_minor": 0
      },
      "text/plain": [
       "Validation: |                                             | 0/? [00:00<?, ?it/s]"
      ]
     },
     "metadata": {},
     "output_type": "display_data"
    },
    {
     "data": {
      "application/vnd.jupyter.widget-view+json": {
       "model_id": "",
       "version_major": 2,
       "version_minor": 0
      },
      "text/plain": [
       "Validation: |                                             | 0/? [00:00<?, ?it/s]"
      ]
     },
     "metadata": {},
     "output_type": "display_data"
    },
    {
     "data": {
      "application/vnd.jupyter.widget-view+json": {
       "model_id": "",
       "version_major": 2,
       "version_minor": 0
      },
      "text/plain": [
       "Validation: |                                             | 0/? [00:00<?, ?it/s]"
      ]
     },
     "metadata": {},
     "output_type": "display_data"
    },
    {
     "data": {
      "application/vnd.jupyter.widget-view+json": {
       "model_id": "",
       "version_major": 2,
       "version_minor": 0
      },
      "text/plain": [
       "Validation: |                                             | 0/? [00:00<?, ?it/s]"
      ]
     },
     "metadata": {},
     "output_type": "display_data"
    },
    {
     "data": {
      "application/vnd.jupyter.widget-view+json": {
       "model_id": "",
       "version_major": 2,
       "version_minor": 0
      },
      "text/plain": [
       "Validation: |                                             | 0/? [00:00<?, ?it/s]"
      ]
     },
     "metadata": {},
     "output_type": "display_data"
    },
    {
     "data": {
      "application/vnd.jupyter.widget-view+json": {
       "model_id": "",
       "version_major": 2,
       "version_minor": 0
      },
      "text/plain": [
       "Validation: |                                             | 0/? [00:00<?, ?it/s]"
      ]
     },
     "metadata": {},
     "output_type": "display_data"
    },
    {
     "data": {
      "application/vnd.jupyter.widget-view+json": {
       "model_id": "",
       "version_major": 2,
       "version_minor": 0
      },
      "text/plain": [
       "Validation: |                                             | 0/? [00:00<?, ?it/s]"
      ]
     },
     "metadata": {},
     "output_type": "display_data"
    }
   ],
   "source": [
    "from ctd.task_modeling.model.rnn import GRU_RNN\n",
    "from ctd.task_modeling.datamodule.task_datamodule import TaskDataModule\n",
    "from ctd.task_modeling.task_wrapper.task_wrapper import TaskTrainedWrapper\n",
    "from pytorch_lightning import Trainer\n",
    "\n",
    "# Step 1: Instantiate the model\n",
    "rnn = GRU_RNN(latent_size = 128) # Look in ctd/task_modeling/models for alternative choices!\n",
    "\n",
    "# Step 2: Instantiate the task environment\n",
    "task_env = rt_task_env\n",
    "\n",
    "# Step 3: Instantiate the task datamodule\n",
    "task_datamodule = TaskDataModule(task_env, n_samples = 1000, batch_size = 256) #.to(device)\n",
    "\n",
    "# Step 4: Instantiate the task wrapper\n",
    "task_wrapper = TaskTrainedWrapper(learning_rate=1e-3, weight_decay = 1e-8)#.to(device)\n",
    "\n",
    "# Step 5: Initialize the model with the input and output sizes\n",
    "rnn.init_model(\n",
    "    input_size = task_env.observation_space.shape[0] + task_env.context_inputs.shape[0],\n",
    "    output_size = task_env.action_space.shape[0]\n",
    "    )\n",
    "\n",
    "# Step 6:  Set the environment and model in the task wrapper\n",
    "task_wrapper.set_environment(task_env)\n",
    "task_wrapper.set_model(rnn)\n",
    "\n",
    "# Step 7: Define the PyTorch Lightning Trainer object (put `enable_progress_bar=True` to observe training progress)\n",
    "trainer = Trainer(accelerator= \"cpu\",max_epochs=500,enable_progress_bar=True)\n",
    "\n",
    "# Step 8: Fit the model\n",
    "trainer.fit(task_wrapper, task_datamodule)"
   ]
  },
  {
   "cell_type": "code",
   "execution_count": null,
   "metadata": {},
   "outputs": [],
   "source": [
    "import pickle\n",
    "# save model as .pkl\n",
    "save_dir = pathlib.Path(HOME_DIR) / \"models_RT_GRU_128\"\n",
    "save_dir.mkdir(exist_ok=True)\n",
    "with open(save_dir / \"model.pkl\", \"wb\") as f:\n",
    "    pickle.dump(task_wrapper, f)\n",
    "\n",
    "# save datamodule as .pkl\n",
    "with open(save_dir / \"datamodule_sim.pkl\", \"wb\") as f:\n",
    "    pickle.dump(task_datamodule, f)\n"
   ]
  },
  {
   "cell_type": "markdown",
   "metadata": {},
   "source": [
    "### Train the NODE on RandomTarget"
   ]
  },
  {
   "cell_type": "code",
   "execution_count": null,
   "metadata": {},
   "outputs": [],
   "source": [
    "task_env.observation_space.shape[0]"
   ]
  },
  {
   "cell_type": "code",
   "execution_count": null,
   "metadata": {},
   "outputs": [],
   "source": [
    "task_env.action_space.shape[0]"
   ]
  },
  {
   "cell_type": "code",
   "execution_count": null,
   "metadata": {},
   "outputs": [],
   "source": [
    "from ctd.task_modeling.model.node import NODE\n",
    "from pytorch_lightning import Trainer\n",
    "\n",
    "enable_progress_bar = True\n",
    "rnn = NODE(latent_size=32, num_layers = 3, layer_hidden_size=64) # Look in ctd/task_modeling/models for alternative choices!\n",
    "task_wrapper = TaskTrainedWrapper(learning_rate=1e-3, weight_decay = 1e-10)\n",
    "\n",
    "# Step 2: Instantiate the task environment\n",
    "task_env = rt_task_env \n",
    "\n",
    "\n",
    "# Step 3: Instantiate the task datamodule\n",
    "task_datamodule = TaskDataModule(task_env, n_samples = 1000, batch_size = 256) #.to(device)\n",
    "\n",
    "rnn.init_model(\n",
    "    input_size = task_env.observation_space.shape[0] + task_env.context_inputs.shape[0],\n",
    "    output_size = task_env.action_space.shape[0]\n",
    "    )\n",
    "\n",
    "task_wrapper.set_environment(task_env)\n",
    "task_wrapper.set_model(rnn)\n",
    "trainer = Trainer(accelerator=\"cpu\", max_epochs=500, enable_progress_bar=enable_progress_bar)\n",
    "\n",
    "trainer.fit(task_wrapper, task_datamodule)\n",
    "\n",
    "save_dir = pathlib.Path(HOME_DIR) / \"models_RT_NODE_3\"\n",
    "save_dir.mkdir(exist_ok=True)\n",
    "with open(save_dir / \"model.pkl\", \"wb\") as f:\n",
    "    pickle.dump(task_wrapper, f)\n",
    "\n",
    "# save datamodule as .pkl\n",
    "with open(save_dir / \"datamodule_sim.pkl\", \"wb\") as f:\n",
    "    pickle.dump(task_datamodule, f)"
   ]
  },
  {
   "cell_type": "markdown",
   "metadata": {},
   "source": [
    "### Checking Affine Transform"
   ]
  },
  {
   "cell_type": "code",
   "execution_count": null,
   "metadata": {},
   "outputs": [],
   "source": [
    "from sklearn.linear_model import LinearRegression\n",
    "from sklearn.metrics import r2_score\n",
    "from sklearn.decomposition import PCA\n",
    "\n",
    "source = analysis_GRU_128\n",
    "target = analysis_NODE\n",
    "\n",
    "# Get the latent activity from the validation phase for each model:\n",
    "latents_source = source.get_latents(phase='train').detach().numpy()\n",
    "latents_targ = target.get_latents(phase='train').detach().numpy()\n",
    "\n",
    "latents_source_val = source.get_latents(phase='val').detach().numpy()\n",
    "latents_targ_val = target.get_latents(phase='val').detach().numpy()\n",
    "\n",
    "n_trials, n_timesteps, n_latent_source = latents_source.shape\n",
    "n_trials, n_timesteps, n_latent_targ = latents_targ.shape\n",
    "\n",
    "n_trials_val, n_timesteps_val, n_latent_source_val = latents_source_val.shape\n",
    "n_trials_val, n_timesteps_val, n_latent_targ_val = latents_targ_val.shape\n",
    "\n",
    "print(f\"Latent shape for source model: {latents_source.shape}\"\n",
    "      f\"\\nLatent shape for target model: {latents_targ.shape}\")"
   ]
  },
  {
   "cell_type": "markdown",
   "metadata": {},
   "source": [
    "### Checking PCA"
   ]
  },
  {
   "cell_type": "code",
   "execution_count": null,
   "metadata": {},
   "outputs": [],
   "source": [
    "# Perform PCA on both latent spaces to find axes of highest variance\n",
    "pca_source = PCA()\n",
    "pca_targ = PCA()\n",
    "lats_source_pca = pca_source.fit_transform(latents_source.reshape(-1, n_latent_source)).reshape((n_trials, n_timesteps, -1))\n",
    "lats_source_pca_val = pca_source.transform(latents_source_val.reshape(-1, n_latent_source)).reshape((n_trials, n_timesteps, -1))\n",
    "\n",
    "lats_targ_pca = pca_targ.fit_transform(latents_targ.reshape(-1, n_latent_targ)).reshape((n_trials, n_timesteps, -1))\n",
    "lats_targ_pca_val = pca_targ.transform(latents_targ_val.reshape(-1, n_latent_targ_val)).reshape((n_trials_val, n_timesteps_val, -1))\n",
    "\n",
    "# Fit a linear regression model to predict the target latents from the source latents\n",
    "reg = LinearRegression().fit(lats_source_pca.reshape(-1, n_latent_source), lats_targ_pca.reshape(-1, n_latent_targ))\n",
    "# Get the R2 of the fit\n",
    "preds = reg.predict(lats_source_pca_val.reshape(-1, n_latent_source_val))\n",
    "r2s = r2_score(lats_targ_pca_val.reshape((-1, n_latent_targ_val)), preds,  multioutput = \"raw_values\")\n",
    "r2_var = r2_score(lats_targ_pca_val.reshape((-1, n_latent_targ_val)), preds, multioutput = \"variance_weighted\")\n",
    "print(f\"R2 of linear regression fit: {r2s}\")\n",
    "print(f\"Variance-weighted R2 of linear regression fit: {r2_var}\")"
   ]
  },
  {
   "cell_type": "markdown",
   "metadata": {},
   "source": [
    "### Show latent space"
   ]
  },
  {
   "cell_type": "code",
   "execution_count": null,
   "metadata": {},
   "outputs": [],
   "source": [
    "from ctd.comparison.analysis.tt.tt import Analysis_TT\n",
    "\n",
    "fpath_GRU_128 = HOME_DIR + \"models_RT_GRU_128/\"\n",
    "# Create the analysis object:\n",
    "analysis_GRU_128 = Analysis_TT(\n",
    "    run_name = \"GRU_128_RT\",\n",
    "    filepath = fpath_GRU_128)\n",
    "\n",
    "analysis_GRU_128.plot_trial_io(num_trials = 5)"
   ]
  },
  {
   "cell_type": "code",
   "execution_count": null,
   "metadata": {},
   "outputs": [],
   "source": [
    "fpath_NODE = HOME_DIR + \"models_RT_NODE_3/\"\n",
    "# Create the analysis object:\n",
    "analysis_NODE = Analysis_TT(\n",
    "    run_name = \"NODE_3_RT\",\n",
    "    filepath = fpath_NODE)\n",
    "\n",
    "analysis_NODE.plot_trial_io(num_trials = 2)"
   ]
  },
  {
   "cell_type": "code",
   "execution_count": null,
   "metadata": {},
   "outputs": [],
   "source": [
    "analysis_GRU_128.plot_scree()"
   ]
  },
  {
   "cell_type": "code",
   "execution_count": null,
   "metadata": {},
   "outputs": [],
   "source": [
    "analysis_NODE.plot_scree()"
   ]
  },
  {
   "cell_type": "code",
   "execution_count": null,
   "metadata": {},
   "outputs": [],
   "source": [
    "from ctd.comparison.comparison import Comparison\n",
    "comp = Comparison()\n",
    "comp.load_analysis(analysis_GRU_128, reference_analysis=True)\n",
    "comp.load_analysis(analysis_NODE)\n",
    "comp.plot_trials_3d_reference(num_trials=2)"
   ]
  },
  {
   "cell_type": "markdown",
   "metadata": {},
   "source": [
    "## Fixed point finding"
   ]
  },
  {
   "cell_type": "code",
   "execution_count": null,
   "metadata": {},
   "outputs": [],
   "source": [
    "import torch\n",
    "import contextlib\n",
    "import io\n",
    "\n",
    "with contextlib.redirect_stdout(io.StringIO()): #to suppress output\n",
    "    fps = analysis_GRU_128.plot_fps(\n",
    "        inputs= torch.zeros(17),\n",
    "        n_inits=1024,\n",
    "        learning_rate=1e-3,\n",
    "        noise_scale=0.0,\n",
    "        max_iters=20000,\n",
    "        seed=0,\n",
    "        compute_jacobians=True,\n",
    "        q_thresh=1e-5,\n",
    "    )"
   ]
  },
  {
   "cell_type": "code",
   "execution_count": null,
   "metadata": {},
   "outputs": [],
   "source": [
    "import matplotlib.pyplot as plt\n",
    "q_thesh = 1e-6\n",
    "q_vals = fps.qstar\n",
    "x_star = fps.xstar[q_vals < q_thesh]\n",
    "fig = plt.figure(figsize=(10, 10))\n",
    "ax = fig.add_subplot(111, projection='3d')\n",
    "ax.scatter(x_star[:, 0], x_star[:, 1], x_star[:, 2], c='r', marker='o')\n",
    "fig.show()\n"
   ]
  },
  {
   "cell_type": "code",
   "execution_count": null,
   "metadata": {},
   "outputs": [],
   "source": [
    "import torch\n",
    "import contextlib\n",
    "import io\n",
    "\n",
    "with contextlib.redirect_stdout(io.StringIO()): #to suppress output\n",
    "    fps = analysis_NODE.plot_fps(\n",
    "        inputs= torch.zeros(17),\n",
    "        n_inits=1024,\n",
    "        learning_rate=1e-3,\n",
    "        noise_scale=0.0,\n",
    "        max_iters=20000,\n",
    "        seed=0,\n",
    "        compute_jacobians=True,\n",
    "        q_thresh=1e-5,\n",
    "    )"
   ]
  },
  {
   "cell_type": "code",
   "execution_count": null,
   "metadata": {},
   "outputs": [],
   "source": [
    "import matplotlib.pyplot as plt\n",
    "q_thesh = 1e-6\n",
    "q_vals = fps.qstar\n",
    "x_star = fps.xstar[q_vals < q_thesh]\n",
    "fig = plt.figure(figsize=(10, 10))\n",
    "ax = fig.add_subplot(111, projection='3d')\n",
    "ax.scatter(x_star[:, 0], x_star[:, 1], x_star[:, 2], c='r', marker='o')\n",
    "fig.show()\n"
   ]
  },
  {
   "cell_type": "code",
   "execution_count": null,
   "metadata": {},
   "outputs": [],
   "source": [
    "from ctd.comparison.analysis.tt.tasks.tt_RandomTarget import TT_RandomTarget\n",
    "\n",
    "fpath_GRU_128 = HOME_DIR + \"models_RT_GRU_128/\"\n",
    "# Create the analysis object:\n",
    "\n",
    "analysis_GRU_128 = TT_RandomTarget(\n",
    "    run_name = \"RT_GRU_128\",\n",
    "    filepath = fpath_GRU_128)\n",
    "\n",
    "analysis_GRU_128.plot_trial(1)\n",
    "\n",
    "analysis_GRU_128.plot_trial(99)"
   ]
  },
  {
   "cell_type": "code",
   "execution_count": null,
   "metadata": {},
   "outputs": [],
   "source": [
    "from ctd.comparison.analysis.tt.tasks.tt_RandomTarget import TT_RandomTarget\n",
    "\n",
    "fpath_NODE = HOME_DIR + \"models_RT_NODE/\"\n",
    "# Create the analysis object:\n",
    "\n",
    "analysis_NODE = TT_RandomTarget(\n",
    "    run_name = \"RT_NODE\",\n",
    "    filepath = fpath_NODE)\n",
    "\n",
    "analysis_NODE.plot_trial(1)\n",
    "\n",
    "analysis_NODE.plot_trial(99)"
   ]
  },
  {
   "cell_type": "markdown",
   "metadata": {
    "execution": {}
   },
   "source": [
    "Importantly, this task is distinct from the previous two tasks because the outputs of the model affect the subsequent inputs!\n",
    "\n",
    "<img src=\"https://github.com/neuromatch/NeuroAI_Course/blob/main/projects/project-notebooks/static/MotorNetIllustration-01.png?raw=true\" width=\"400\"/>\n",
    "\n",
    "\n",
    "Visualizing the latent dynamics of models trained on MotorNet tasks, we can see that there are complex features in the state space, but we'll leave that to you to figure out what they mean!\n",
    "\n",
    "<img src=\"https://github.com/neuromatch/NeuroAI_Course/blob/main/projects/project-notebooks/static/MotorNetGif.gif?raw=true\" width=\"300\"/>"
   ]
  },
  {
   "cell_type": "markdown",
   "metadata": {
    "execution": {}
   },
   "source": [
    "In the later questions, we will ask you to modify the environments in MotorNet to test how well your models can generalize to new tasks!"
   ]
  },
  {
   "cell_type": "markdown",
   "metadata": {},
   "source": [
    "###  Submit your feedback\n"
   ]
  },
  {
   "cell_type": "code",
   "execution_count": null,
   "metadata": {
    "cellView": "form",
    "tags": [
     "hide-input"
    ]
   },
   "outputs": [],
   "source": [
    "# @title Submit your feedback\n",
    "content_review(f\"{feedback_prefix}_introducing_the_random_target_task\")"
   ]
  },
  {
   "cell_type": "markdown",
   "metadata": {
    "execution": {}
   },
   "source": [
    "---\n",
    "## Conclusion\n",
    "\n",
    "That's it!\n",
    "\n",
    "To recap, in this tutorial, we learned:\n",
    "1. The basics of two tasks, the Three-Bit Flip-Flop and the Random Target task.\n",
    "2. How to train recurrent neural network models on these tasks\n",
    "3. Methods of visualizing and quantifying differences between these task-trained models.\n",
    "\n",
    "As you begin to extend beyond this tutorial, you will likely need to make your own environments, or modify existing environments to test the ability of models to generalize. We've tried to document the code-base to make this as easy as possible, but feel free to reach out if you have any questions!"
   ]
  },
  {
   "cell_type": "markdown",
   "metadata": {},
   "source": [
    "###  Submit your feedback\n"
   ]
  },
  {
   "cell_type": "code",
   "execution_count": null,
   "metadata": {
    "cellView": "form",
    "tags": [
     "hide-input"
    ]
   },
   "outputs": [],
   "source": [
    "# @title Submit your feedback\n",
    "content_review(f\"{feedback_prefix}_conclusion\")"
   ]
  },
  {
   "cell_type": "code",
   "execution_count": 1,
   "metadata": {},
   "outputs": [
    {
     "name": "stdout",
     "output_type": "stream",
     "text": [
      "Hello World\n"
     ]
    }
   ],
   "source": [
    "print('Hello World') "
   ]
  },
  {
   "cell_type": "code",
   "execution_count": null,
   "metadata": {},
   "outputs": [],
   "source": []
  }
 ],
 "metadata": {
  "colab": {
   "collapsed_sections": [],
   "include_colab_link": true,
   "name": "ComparingNetworks",
   "toc_visible": true
  },
  "kernel": {
   "display_name": "Python 3",
   "language": "python",
   "name": "python3"
  },
  "kernelspec": {
   "display_name": "Python 3 (ipykernel)",
   "language": "python",
   "name": "python3"
  },
  "language_info": {
   "codemirror_mode": {
    "name": "ipython",
    "version": 3
   },
   "file_extension": ".py",
   "mimetype": "text/x-python",
   "name": "python",
   "nbconvert_exporter": "python",
   "pygments_lexer": "ipython3",
   "version": "3.11.9"
  }
 },
 "nbformat": 4,
 "nbformat_minor": 4
}
