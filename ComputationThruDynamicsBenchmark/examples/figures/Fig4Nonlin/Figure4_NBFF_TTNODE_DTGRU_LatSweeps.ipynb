{
 "cells": [
  {
   "cell_type": "code",
   "execution_count": 1,
   "metadata": {},
   "outputs": [
    {
     "data": {
      "text/plain": [
       "True"
      ]
     },
     "execution_count": 1,
     "metadata": {},
     "output_type": "execute_result"
    }
   ],
   "source": [
    "import matplotlib.pyplot as plt\n",
    "\n",
    "import numpy as np\n",
    "import os\n",
    "from ctd.comparison.analysis.tt.tt import Analysis_TT \n",
    "from ctd.comparison.analysis.dt.dt import Analysis_DT\n",
    "# Import pca\n",
    "import dotenv\n",
    "from ctd.comparison.comparison import Comparison\n",
    "import torch\n",
    "from sklearn.decomposition import PCA\n",
    "\n",
    "dotenv.load_dotenv(dotenv.find_dotenv())"
   ]
  },
  {
   "cell_type": "code",
   "execution_count": 2,
   "metadata": {},
   "outputs": [
    {
     "name": "stdout",
     "output_type": "stream",
     "text": [
      "/home/csverst/Github/CtDBenchmark/\n"
     ]
    }
   ],
   "source": [
    "\n",
    "\n",
    "HOME_DIR = os.environ['HOME_DIR']\n",
    "print(HOME_DIR)\n",
    "\n",
    "pathTT = HOME_DIR + 'content/trained_models/task-trained/20240503_Fig1_NBFF_NODE_NonLinEmbed/max_epochs=500 n_samples=1000 latent_size=3 seed=0 learning_rate=0.001/'\n",
    "an_TT = Analysis_TT(run_name = \"TT\", filepath = pathTT)\n",
    "\n",
    "\n",
    "path_GRU_Sweep = pathTT + \"20240509_Fig4_NBFF_GRU_TT_NODE_LatSweep_NonLin/\"\n",
    "subfolders_GRU = [f.path for f in os.scandir(path_GRU_Sweep) if f.is_dir()]\n",
    "\n",
    "path_NODE_Sweep = pathTT + \"20240509_Fig4_NBFF_NODE_TT_NODE_LatSweep_NonLin/\"\n",
    "subfolders_NODE = [f.path for f in os.scandir(path_NODE_Sweep) if f.is_dir()]\n"
   ]
  },
  {
   "cell_type": "code",
   "execution_count": 3,
   "metadata": {},
   "outputs": [
    {
     "name": "stdout",
     "output_type": "stream",
     "text": [
      "gen_model=NODE prefix=20240503_Fig1_NBFF_NODE_NonLinEmbed seed=0 max_epochs=1000 latent_size=8\n",
      "gen_model=NODE prefix=20240503_Fig1_NBFF_NODE_NonLinEmbed seed=2 max_epochs=1000 latent_size=3\n",
      "gen_model=NODE prefix=20240503_Fig1_NBFF_NODE_NonLinEmbed seed=2 max_epochs=1000 latent_size=8\n",
      "gen_model=NODE prefix=20240503_Fig1_NBFF_NODE_NonLinEmbed seed=1 max_epochs=1000 latent_size=3\n",
      "gen_model=NODE prefix=20240503_Fig1_NBFF_NODE_NonLinEmbed seed=0 max_epochs=1000 latent_size=3\n",
      "gen_model=NODE prefix=20240503_Fig1_NBFF_NODE_NonLinEmbed seed=2 max_epochs=1000 latent_size=32\n",
      "gen_model=NODE prefix=20240503_Fig1_NBFF_NODE_NonLinEmbed seed=1 max_epochs=1000 latent_size=8\n",
      "gen_model=NODE prefix=20240503_Fig1_NBFF_NODE_NonLinEmbed seed=1 max_epochs=1000 latent_size=16\n",
      "gen_model=NODE prefix=20240503_Fig1_NBFF_NODE_NonLinEmbed seed=2 max_epochs=1000 latent_size=16\n",
      "gen_model=NODE prefix=20240503_Fig1_NBFF_NODE_NonLinEmbed seed=0 max_epochs=1000 latent_size=16\n",
      "gen_model=NODE prefix=20240503_Fig1_NBFF_NODE_NonLinEmbed seed=0 max_epochs=1000 latent_size=32\n",
      "gen_model=NODE prefix=20240503_Fig1_NBFF_NODE_NonLinEmbed seed=1 max_epochs=1000 latent_size=32\n",
      "gen_model=NODE prefix=20240503_Fig1_NBFF_NODE_NonLinEmbed seed=1 max_epochs=1000 latent_size=64\n",
      "gen_model=NODE prefix=20240503_Fig1_NBFF_NODE_NonLinEmbed seed=0 max_epochs=1000 latent_size=64\n",
      "gen_model=NODE prefix=20240503_Fig1_NBFF_NODE_NonLinEmbed seed=3 max_epochs=1000 latent_size=3\n",
      "gen_model=NODE prefix=20240503_Fig1_NBFF_NODE_NonLinEmbed seed=3 max_epochs=1000 latent_size=16\n",
      "gen_model=NODE prefix=20240503_Fig1_NBFF_NODE_NonLinEmbed seed=4 max_epochs=1000 latent_size=16\n",
      "gen_model=NODE prefix=20240503_Fig1_NBFF_NODE_NonLinEmbed seed=3 max_epochs=1000 latent_size=8\n",
      "gen_model=NODE prefix=20240503_Fig1_NBFF_NODE_NonLinEmbed seed=3 max_epochs=1000 latent_size=32\n",
      "gen_model=NODE prefix=20240503_Fig1_NBFF_NODE_NonLinEmbed seed=2 max_epochs=1000 latent_size=64\n",
      "gen_model=NODE prefix=20240503_Fig1_NBFF_NODE_NonLinEmbed seed=4 max_epochs=1000 latent_size=3\n",
      "gen_model=NODE prefix=20240503_Fig1_NBFF_NODE_NonLinEmbed seed=4 max_epochs=1000 latent_size=8\n",
      "gen_model=NODE prefix=20240503_Fig1_NBFF_NODE_NonLinEmbed seed=3 max_epochs=1000 latent_size=64\n",
      "gen_model=NODE prefix=20240503_Fig1_NBFF_NODE_NonLinEmbed seed=4 max_epochs=1000 latent_size=32\n",
      "gen_model=NODE prefix=20240503_Fig1_NBFF_NODE_NonLinEmbed seed=4 max_epochs=1000 latent_size=64\n"
     ]
    }
   ],
   "source": [
    "comparison_GRU = Comparison(comparison_tag=\"Figure4NBFF_GRU_TTNODE_Nonlin\")\n",
    "comparison_GRU.load_analysis(an_TT, reference_analysis=True, group = \"TT\")\n",
    "\n",
    "for subfolder in subfolders_GRU:\n",
    "    \n",
    "    final_folder = subfolder.split(\"/\")[-1]\n",
    "    subfolder = subfolder + \"/\"\n",
    "    print(final_folder)\n",
    "    # Find the latent size in the folder name\n",
    "    latent_size = int(final_folder.split(\"latent_size=\")[1].split(\" \")[0])\n",
    "\n",
    "    analysis_GRU = Analysis_DT(run_name = f\"GRU_{latent_size}\", filepath = subfolder, model_type = \"SAE\")\n",
    "    comparison_GRU.load_analysis(analysis_GRU, group = f\"GRU_{latent_size}\")\n",
    "\n",
    "comparison_GRU.regroup()"
   ]
  },
  {
   "cell_type": "code",
   "execution_count": 4,
   "metadata": {},
   "outputs": [
    {
     "name": "stdout",
     "output_type": "stream",
     "text": [
      "gen_model=NODE prefix=20240503_Fig1_NBFF_NODE_NonLinEmbed seed=0 max_epochs=1000 latent_size=8\n",
      "gen_model=NODE prefix=20240503_Fig1_NBFF_NODE_NonLinEmbed seed=2 max_epochs=1000 latent_size=3\n",
      "gen_model=NODE prefix=20240503_Fig1_NBFF_NODE_NonLinEmbed seed=2 max_epochs=1000 latent_size=8\n",
      "gen_model=NODE prefix=20240503_Fig1_NBFF_NODE_NonLinEmbed seed=1 max_epochs=1000 latent_size=3\n",
      "gen_model=NODE prefix=20240503_Fig1_NBFF_NODE_NonLinEmbed seed=0 max_epochs=1000 latent_size=3\n",
      "gen_model=NODE prefix=20240503_Fig1_NBFF_NODE_NonLinEmbed seed=2 max_epochs=1000 latent_size=32\n",
      "gen_model=NODE prefix=20240503_Fig1_NBFF_NODE_NonLinEmbed seed=1 max_epochs=1000 latent_size=8\n",
      "gen_model=NODE prefix=20240503_Fig1_NBFF_NODE_NonLinEmbed seed=1 max_epochs=1000 latent_size=16\n",
      "gen_model=NODE prefix=20240503_Fig1_NBFF_NODE_NonLinEmbed seed=2 max_epochs=1000 latent_size=16\n",
      "gen_model=NODE prefix=20240503_Fig1_NBFF_NODE_NonLinEmbed seed=0 max_epochs=1000 latent_size=16\n",
      "gen_model=NODE prefix=20240503_Fig1_NBFF_NODE_NonLinEmbed seed=0 max_epochs=1000 latent_size=32\n",
      "gen_model=NODE prefix=20240503_Fig1_NBFF_NODE_NonLinEmbed seed=1 max_epochs=1000 latent_size=32\n",
      "gen_model=NODE prefix=20240503_Fig1_NBFF_NODE_NonLinEmbed seed=1 max_epochs=1000 latent_size=64\n",
      "gen_model=NODE prefix=20240503_Fig1_NBFF_NODE_NonLinEmbed seed=0 max_epochs=1000 latent_size=64\n",
      "gen_model=NODE prefix=20240503_Fig1_NBFF_NODE_NonLinEmbed seed=3 max_epochs=1000 latent_size=3\n",
      "gen_model=NODE prefix=20240503_Fig1_NBFF_NODE_NonLinEmbed seed=3 max_epochs=1000 latent_size=16\n",
      "gen_model=NODE prefix=20240503_Fig1_NBFF_NODE_NonLinEmbed seed=4 max_epochs=1000 latent_size=16\n",
      "gen_model=NODE prefix=20240503_Fig1_NBFF_NODE_NonLinEmbed seed=3 max_epochs=1000 latent_size=8\n",
      "gen_model=NODE prefix=20240503_Fig1_NBFF_NODE_NonLinEmbed seed=3 max_epochs=1000 latent_size=32\n",
      "gen_model=NODE prefix=20240503_Fig1_NBFF_NODE_NonLinEmbed seed=2 max_epochs=1000 latent_size=64\n",
      "gen_model=NODE prefix=20240503_Fig1_NBFF_NODE_NonLinEmbed seed=4 max_epochs=1000 latent_size=3\n",
      "gen_model=NODE prefix=20240503_Fig1_NBFF_NODE_NonLinEmbed seed=4 max_epochs=1000 latent_size=8\n",
      "gen_model=NODE prefix=20240503_Fig1_NBFF_NODE_NonLinEmbed seed=3 max_epochs=1000 latent_size=64\n",
      "gen_model=NODE prefix=20240503_Fig1_NBFF_NODE_NonLinEmbed seed=4 max_epochs=1000 latent_size=32\n",
      "gen_model=NODE prefix=20240503_Fig1_NBFF_NODE_NonLinEmbed seed=4 max_epochs=1000 latent_size=64\n"
     ]
    }
   ],
   "source": [
    "comparison_NODE = Comparison(comparison_tag=\"Figure4NBFF_NODE_TTNODE_Nonlin\")\n",
    "comparison_NODE.load_analysis(an_TT, reference_analysis=True, group = \"TT\")\n",
    "\n",
    "for subfolder in subfolders_NODE:\n",
    "    \n",
    "    final_folder = subfolder.split(\"/\")[-1]\n",
    "    subfolder = subfolder + \"/\"\n",
    "    print(final_folder)\n",
    "    # Find the latent size in the folder name\n",
    "    latent_size = int(final_folder.split(\"latent_size=\")[1].split(\" \")[0])\n",
    "\n",
    "    analysis_NODE = Analysis_DT(run_name = f\"NODE_{latent_size}\", filepath = subfolder, model_type = \"SAE\")\n",
    "    comparison_NODE.load_analysis(analysis_NODE, group = f\"NODE_{latent_size}\")\n",
    "\n",
    "comparison_NODE.regroup()"
   ]
  },
  {
   "cell_type": "code",
   "execution_count": 5,
   "metadata": {},
   "outputs": [
    {
     "name": "stdout",
     "output_type": "stream",
     "text": [
      "Working on 1 of 26: GRU_16\n",
      "Group: GRU_16\n",
      "Rate R2: 0.9828814093719052\n",
      "State R2: 0.8729480997330427\n",
      "Working on 2 of 26: GRU_16\n",
      "Group: GRU_16\n",
      "Rate R2: 0.9854327038016606\n",
      "State R2: 0.8760690307335308\n",
      "Working on 3 of 26: GRU_16\n",
      "Group: GRU_16\n",
      "Rate R2: 0.9845346290584718\n",
      "State R2: 0.8778675248906826\n",
      "Working on 4 of 26: GRU_16\n",
      "Group: GRU_16\n",
      "Rate R2: 0.9832230135976964\n",
      "State R2: 0.8859237183102896\n",
      "Working on 5 of 26: GRU_16\n",
      "Group: GRU_16\n",
      "Rate R2: 0.9850483298934207\n",
      "State R2: 0.8744566359459004\n",
      "Working on 6 of 26: GRU_3\n",
      "Group: GRU_3\n",
      "Rate R2: 0.3695096727352458\n",
      "State R2: 0.6776548725442005\n",
      "Working on 7 of 26: GRU_3\n",
      "Group: GRU_3\n",
      "Rate R2: 0.46635196856713923\n",
      "State R2: 0.619334733332024\n",
      "Working on 8 of 26: GRU_3\n",
      "Group: GRU_3\n",
      "Rate R2: 0.6144114034188624\n",
      "State R2: 0.368030882753998\n",
      "Working on 9 of 26: GRU_3\n",
      "Group: GRU_3\n",
      "Rate R2: 0.4228750877177203\n",
      "State R2: 0.5776072140867866\n",
      "Working on 10 of 26: GRU_3\n",
      "Group: GRU_3\n",
      "Rate R2: 0.45315320868421927\n",
      "State R2: 0.4973218930662634\n",
      "Working on 11 of 26: GRU_32\n",
      "Group: GRU_32\n",
      "Rate R2: 0.984465577418452\n",
      "State R2: 0.8352650825588921\n",
      "Working on 12 of 26: GRU_32\n",
      "Group: GRU_32\n",
      "Rate R2: 0.9882843448138848\n",
      "State R2: 0.8531956765896672\n",
      "Working on 13 of 26: GRU_32\n",
      "Group: GRU_32\n",
      "Rate R2: 0.9888846862219676\n",
      "State R2: 0.8432509295804221\n",
      "Working on 14 of 26: GRU_32\n",
      "Group: GRU_32\n",
      "Rate R2: 0.9896362648202465\n",
      "State R2: 0.8220122396037228\n",
      "Working on 15 of 26: GRU_32\n",
      "Group: GRU_32\n",
      "Rate R2: 0.9871709564621579\n",
      "State R2: 0.8405892979682624\n",
      "Working on 16 of 26: GRU_64\n",
      "Group: GRU_64\n",
      "Rate R2: 0.98772936289488\n",
      "State R2: 0.8020984821729408\n",
      "Working on 17 of 26: GRU_64\n",
      "Group: GRU_64\n",
      "Rate R2: 0.9889993128333553\n",
      "State R2: 0.7895635786398426\n",
      "Working on 18 of 26: GRU_64\n",
      "Group: GRU_64\n",
      "Rate R2: 0.9878730642578702\n",
      "State R2: 0.7860260548347243\n",
      "Working on 19 of 26: GRU_64\n",
      "Group: GRU_64\n",
      "Rate R2: 0.9878761451419659\n",
      "State R2: 0.7730691837720619\n",
      "Working on 20 of 26: GRU_64\n",
      "Group: GRU_64\n",
      "Rate R2: 0.9895955397870785\n",
      "State R2: 0.7730753038075266\n",
      "Working on 21 of 26: GRU_8\n",
      "Group: GRU_8\n",
      "Rate R2: 0.9611028875855844\n",
      "State R2: 0.870814927611788\n",
      "Working on 22 of 26: GRU_8\n",
      "Group: GRU_8\n",
      "Rate R2: 0.970268059003375\n",
      "State R2: 0.8825186433865555\n",
      "Working on 23 of 26: GRU_8\n",
      "Group: GRU_8\n",
      "Rate R2: 0.966044972564319\n",
      "State R2: 0.8981087195905642\n",
      "Working on 24 of 26: GRU_8\n",
      "Group: GRU_8\n",
      "Rate R2: 0.9580507464904923\n",
      "State R2: 0.8721622084034695\n",
      "Working on 25 of 26: GRU_8\n",
      "Group: GRU_8\n",
      "Rate R2: 0.9494902002737546\n",
      "State R2: 0.8609652891969855\n",
      "Working on 26 of 26: TT\n",
      "Group: TT\n"
     ]
    },
    {
     "data": {
      "text/plain": [
       "array([[0.98288141, 0.8729481 ],\n",
       "       [0.9854327 , 0.87606903],\n",
       "       [0.98453463, 0.87786752],\n",
       "       [0.98322301, 0.88592372],\n",
       "       [0.98504833, 0.87445664],\n",
       "       [0.36950967, 0.67765487],\n",
       "       [0.46635197, 0.61933473],\n",
       "       [0.6144114 , 0.36803088],\n",
       "       [0.42287509, 0.57760721],\n",
       "       [0.45315321, 0.49732189],\n",
       "       [0.98446558, 0.83526508],\n",
       "       [0.98828434, 0.85319568],\n",
       "       [0.98888469, 0.84325093],\n",
       "       [0.98963626, 0.82201224],\n",
       "       [0.98717096, 0.8405893 ],\n",
       "       [0.98772936, 0.80209848],\n",
       "       [0.98899931, 0.78956358],\n",
       "       [0.98787306, 0.78602605],\n",
       "       [0.98787615, 0.77306918],\n",
       "       [0.98959554, 0.7730753 ],\n",
       "       [0.96110289, 0.87081493],\n",
       "       [0.97026806, 0.88251864],\n",
       "       [0.96604497, 0.89810872],\n",
       "       [0.95805075, 0.87216221],\n",
       "       [0.9494902 , 0.86096529],\n",
       "       [0.        , 0.        ]])"
      ]
     },
     "execution_count": 5,
     "metadata": {},
     "output_type": "execute_result"
    },
    {
     "data": {
      "image/png": "[encoded data removed]",
      "text/plain": [
       "<Figure size 640x480 with 1 Axes>"
      ]
     },
     "metadata": {},
     "output_type": "display_data"
    }
   ],
   "source": [
    "plot_dict = {\n",
    "    \"save_pdf\": True,\n",
    "    \"ax_lim\": [0.15, 1.05],\n",
    "    \"marker\": \"o\",\n",
    "}\n",
    "comparison_GRU.compare_rate_state_r2(plot_dict=plot_dict)"
   ]
  },
  {
   "cell_type": "code",
   "execution_count": 6,
   "metadata": {},
   "outputs": [
    {
     "name": "stdout",
     "output_type": "stream",
     "text": [
      "Working on 1 of 26: NODE_16\n",
      "Group: NODE_16\n",
      "Rate R2: 0.9828613641393525\n",
      "State R2: 0.8729800956831453\n",
      "Working on 2 of 26: NODE_16\n",
      "Group: NODE_16\n",
      "Rate R2: 0.9854612462024157\n",
      "State R2: 0.8760729172298802\n",
      "Working on 3 of 26: NODE_16\n",
      "Group: NODE_16\n",
      "Rate R2: 0.9844972264707913\n",
      "State R2: 0.877973919106499\n",
      "Working on 4 of 26: NODE_16\n",
      "Group: NODE_16\n",
      "Rate R2: 0.9832471626762525\n",
      "State R2: 0.8859164769553712\n",
      "Working on 5 of 26: NODE_16\n",
      "Group: NODE_16\n",
      "Rate R2: 0.9850507244199924\n",
      "State R2: 0.8744550983522975\n",
      "Working on 6 of 26: NODE_3\n",
      "Group: NODE_3\n",
      "Rate R2: 0.3687230871235478\n",
      "State R2: 0.6741567251755551\n",
      "Working on 7 of 26: NODE_3\n",
      "Group: NODE_3\n",
      "Rate R2: 0.46539793434451715\n",
      "State R2: 0.6137554438805742\n",
      "Working on 8 of 26: NODE_3\n",
      "Group: NODE_3\n",
      "Rate R2: 0.6113921118663971\n",
      "State R2: 0.37243786453191374\n",
      "Working on 9 of 26: NODE_3\n",
      "Group: NODE_3\n",
      "Rate R2: 0.4275944490509998\n",
      "State R2: 0.5693306173156732\n",
      "Working on 10 of 26: NODE_3\n",
      "Group: NODE_3\n",
      "Rate R2: 0.4562581165886776\n",
      "State R2: 0.4876304063685047\n",
      "Working on 11 of 26: NODE_32\n",
      "Group: NODE_32\n",
      "Rate R2: 0.9845922844651293\n",
      "State R2: 0.8354033963663309\n",
      "Working on 12 of 26: NODE_32\n",
      "Group: NODE_32\n",
      "Rate R2: 0.988343585601408\n",
      "State R2: 0.8533350551890234\n",
      "Working on 13 of 26: NODE_32\n",
      "Group: NODE_32\n",
      "Rate R2: 0.9898269741582222\n",
      "State R2: 0.8439741712459382\n",
      "Working on 14 of 26: NODE_32\n",
      "Group: NODE_32\n",
      "Rate R2: 0.9896573757564707\n",
      "State R2: 0.8218829014847834\n",
      "Working on 15 of 26: NODE_32\n",
      "Group: NODE_32\n",
      "Rate R2: 0.9872371897430875\n",
      "State R2: 0.8406701207111472\n",
      "Working on 16 of 26: NODE_64\n",
      "Group: NODE_64\n",
      "Rate R2: 0.9884472928668383\n",
      "State R2: 0.8019216120943973\n",
      "Working on 17 of 26: NODE_64\n",
      "Group: NODE_64\n",
      "Rate R2: 0.9889765448709178\n",
      "State R2: 0.7898461342904048\n",
      "Working on 18 of 26: NODE_64\n",
      "Group: NODE_64\n",
      "Rate R2: 0.9878298069652075\n",
      "State R2: 0.7857987724041174\n",
      "Working on 19 of 26: NODE_64\n",
      "Group: NODE_64\n",
      "Rate R2: 0.9878952482718261\n",
      "State R2: 0.772808312051484\n",
      "Working on 20 of 26: NODE_64\n",
      "Group: NODE_64\n",
      "Rate R2: 0.9896046781669147\n",
      "State R2: 0.772571525944909\n",
      "Working on 21 of 26: NODE_8\n",
      "Group: NODE_8\n",
      "Rate R2: 0.9610501112662737\n",
      "State R2: 0.8707516604672182\n",
      "Working on 22 of 26: NODE_8\n",
      "Group: NODE_8\n",
      "Rate R2: 0.9702136767151477\n",
      "State R2: 0.8824848896664285\n",
      "Working on 23 of 26: NODE_8\n",
      "Group: NODE_8\n",
      "Rate R2: 0.9660288843892136\n",
      "State R2: 0.8981734520000203\n",
      "Working on 24 of 26: NODE_8\n",
      "Group: NODE_8\n",
      "Rate R2: 0.9580639440549237\n",
      "State R2: 0.8722256263934763\n",
      "Working on 25 of 26: NODE_8\n",
      "Group: NODE_8\n",
      "Rate R2: 0.9493267936293353\n",
      "State R2: 0.8602043298537166\n",
      "Working on 26 of 26: TT\n",
      "Group: TT\n"
     ]
    },
    {
     "data": {
      "text/plain": [
       "array([[0.98286136, 0.8729801 ],\n",
       "       [0.98546125, 0.87607292],\n",
       "       [0.98449723, 0.87797392],\n",
       "       [0.98324716, 0.88591648],\n",
       "       [0.98505072, 0.8744551 ],\n",
       "       [0.36872309, 0.67415673],\n",
       "       [0.46539793, 0.61375544],\n",
       "       [0.61139211, 0.37243786],\n",
       "       [0.42759445, 0.56933062],\n",
       "       [0.45625812, 0.48763041],\n",
       "       [0.98459228, 0.8354034 ],\n",
       "       [0.98834359, 0.85333506],\n",
       "       [0.98982697, 0.84397417],\n",
       "       [0.98965738, 0.8218829 ],\n",
       "       [0.98723719, 0.84067012],\n",
       "       [0.98844729, 0.80192161],\n",
       "       [0.98897654, 0.78984613],\n",
       "       [0.98782981, 0.78579877],\n",
       "       [0.98789525, 0.77280831],\n",
       "       [0.98960468, 0.77257153],\n",
       "       [0.96105011, 0.87075166],\n",
       "       [0.97021368, 0.88248489],\n",
       "       [0.96602888, 0.89817345],\n",
       "       [0.95806394, 0.87222563],\n",
       "       [0.94932679, 0.86020433],\n",
       "       [0.        , 0.        ]])"
      ]
     },
     "execution_count": 6,
     "metadata": {},
     "output_type": "execute_result"
    },
    {
     "data": {
      "image/png": "[encoded data removed]",
      "text/plain": [
       "<Figure size 640x480 with 1 Axes>"
      ]
     },
     "metadata": {},
     "output_type": "display_data"
    }
   ],
   "source": [
    "plot_dict = {\n",
    "    \"save_pdf\": True,\n",
    "    \"ax_lim\": [0.15, 1.05],\n",
    "    \"marker\": \"x\",\n",
    "}\n",
    "comparison_NODE.compare_rate_state_r2(plot_dict=plot_dict)"
   ]
  },
  {
   "cell_type": "code",
   "execution_count": 7,
   "metadata": {},
   "outputs": [
    {
     "name": "stdout",
     "output_type": "stream",
     "text": [
      "\n",
      "Iteration 500/40000\n",
      "q = 3.48E-07 +/- 7.52E-06\n",
      "dq = 1.72E-10 +/- 5.46E-09\n",
      "\n",
      "Iteration 1000/40000\n",
      "q = 3.31E-07 +/- 7.50E-06\n",
      "dq = 7.22E-13 +/- 1.62E-11\n",
      "\n",
      "Iteration 1500/40000\n",
      "q = 1.14E-07 +/- 3.65E-06\n",
      "dq = 5.44E-09 +/- 1.74E-07\n",
      "\n",
      "Iteration 2000/40000\n",
      "q = 1.95E-15 +/- 3.69E-14\n",
      "dq = 2.82E-16 +/- 4.85E-15\n",
      "\n",
      "Iteration 2500/40000\n",
      "q = 5.89E-13 +/- 1.86E-11\n",
      "dq = 1.39E-13 +/- 4.37E-12\n",
      "\n",
      "Iteration 3000/40000\n",
      "q = 7.20E-13 +/- 2.25E-11\n",
      "dq = 7.12E-13 +/- 2.21E-11\n",
      "\n",
      "Iteration 3500/40000\n",
      "q = 1.66E-11 +/- 2.45E-10\n",
      "dq = 5.09E-12 +/- 7.90E-11\n"
     ]
    }
   ],
   "source": [
    "fpsTT = an_TT.plot_fps(\n",
    "    inputs = torch.zeros(3),\n",
    "    max_iters = 40000,\n",
    "    learning_rate =5e-3,\n",
    ")"
   ]
  },
  {
   "cell_type": "code",
   "execution_count": null,
   "metadata": {},
   "outputs": [],
   "source": [
    "fpsDT_GRU = analysis_GRU.plot_fps(\n",
    "    inputs = torch.zeros(3),\n",
    "    max_iters = 40000,\n",
    "    learning_rate =5e-3,\n",
    ")"
   ]
  },
  {
   "cell_type": "code",
   "execution_count": null,
   "metadata": {},
   "outputs": [],
   "source": [
    "fpsDT_NODE = analysis_NODE.plot_fps(\n",
    "    inputs = torch.zeros(3),\n",
    "    max_iters = 40000,\n",
    "    learning_rate =5e-3,\n",
    ")"
   ]
  },
  {
   "cell_type": "code",
   "execution_count": null,
   "metadata": {},
   "outputs": [],
   "source": [
    "fpsDT_LDS = analysis_LDS.plot_fps(\n",
    "    inputs = torch.zeros(3),\n",
    "    max_iters = 40000,\n",
    "    learning_rate =5e-3,\n",
    ")"
   ]
  },
  {
   "cell_type": "code",
   "execution_count": null,
   "metadata": {},
   "outputs": [],
   "source": [
    "lats_TT = an_TT.get_latents().detach().numpy()\n",
    "lats_GRU = analysis_GRU.get_latents().detach().numpy()\n",
    "lats_NODE = analysis_NODE.get_latents().detach().numpy()\n",
    "lats_LDS = analysis_LDS.get_latents().detach().numpy()\n",
    "\n",
    "plot_model_fps(fpsTT, latents=lats_TT, q_thresh = 1e-7, label = \"TT\")\n",
    "plot_model_fps(fpsDT_GRU, latents = lats_GRU, q_thresh = 1e-6, label = \"DT_GRU\")\n",
    "plot_model_fps(fpsDT_NODE, latents = lats_NODE, q_thresh = 1e-7, label = \"DT_NODE\")\n",
    "plot_model_fps(fpsDT_LDS, latents = lats_LDS, q_thresh = 1e-7, label = \"DT_LDS\")"
   ]
  },
  {
   "cell_type": "code",
   "execution_count": null,
   "metadata": {},
   "outputs": [],
   "source": [
    "\n",
    "comparison_models = Comparison()\n",
    "comparison_models.load_analysis(an_TT, reference_analysis=True, group = \"TT\")\n",
    "comparison_models.load_analysis(analysis_GRU, group = \"GRU\")\n",
    "comparison_models.load_analysis(analysis_NODE, group = \"NODE\")\n",
    "comparison_models.load_analysis(analysis_LDS, group = \"LDS\")\n",
    "comparison_models.regroup()"
   ]
  },
  {
   "cell_type": "code",
   "execution_count": null,
   "metadata": {},
   "outputs": [],
   "source": [
    "comparison_models.plot_trials_reference(num_trials=2, num_pcs=4)"
   ]
  },
  {
   "cell_type": "code",
   "execution_count": null,
   "metadata": {},
   "outputs": [],
   "source": [
    "lds_fps = analysis_LDS.plot_fps(\n",
    "    inputs = torch.zeros(3),\n",
    "    learning_rate = 1e-3,\n",
    "    n_inits=1024,\n",
    "    max_iters = 20000,                      \n",
    ")\n",
    "\n"
   ]
  },
  {
   "cell_type": "code",
   "execution_count": null,
   "metadata": {},
   "outputs": [],
   "source": [
    "node_fps = analysis_NODE.plot_fps(\n",
    "    inputs = torch.zeros(3),\n",
    "    learning_rate = 6e-4,\n",
    "    n_inits=1024,\n",
    "    max_iters = 50000,                      \n",
    ")"
   ]
  },
  {
   "cell_type": "code",
   "execution_count": null,
   "metadata": {},
   "outputs": [],
   "source": [
    "gru_fps = analysis_GRU.plot_fps(\n",
    "    inputs = torch.zeros(3),\n",
    "    learning_rate = 6e-4,\n",
    "    n_inits=1024,\n",
    "    max_iters = 50000,                      \n",
    ")"
   ]
  },
  {
   "cell_type": "code",
   "execution_count": null,
   "metadata": {},
   "outputs": [],
   "source": [
    "plot_model_fps(lds_fps, q_thresh = 1e-4)\n",
    "plot_model_fps(node_fps, q_thresh = 1e-4)\n",
    "plot_model_fps(gru_fps, q_thresh = 4e-7)"
   ]
  },
  {
   "cell_type": "markdown",
   "metadata": {},
   "source": []
  }
 ],
 "metadata": {
  "kernelspec": {
   "display_name": "build5",
   "language": "python",
   "name": "python3"
  },
  "language_info": {
   "codemirror_mode": {
    "name": "ipython",
    "version": 3
   },
   "file_extension": ".py",
   "mimetype": "text/x-python",
   "name": "python",
   "nbconvert_exporter": "python",
   "pygments_lexer": "ipython3",
   "version": "3.10.13"
  }
 },
 "nbformat": 4,
 "nbformat_minor": 2
}
